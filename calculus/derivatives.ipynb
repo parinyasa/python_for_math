{
 "cells": [
  {
   "cell_type": "code",
   "execution_count": 14,
   "id": "c0f4edeb-eb6f-49fe-9e2b-ffe906518056",
   "metadata": {
    "tags": []
   },
   "outputs": [],
   "source": [
    "from sympy import *\n",
    "x = symbols(\"x\")\n",
    "h = symbols(\"h\")"
   ]
  },
  {
   "cell_type": "markdown",
   "id": "657765a4-64f0-41ad-b76e-c4fd99d61598",
   "metadata": {
    "tags": []
   },
   "source": [
    "# derivatives"
   ]
  },
  {
   "cell_type": "markdown",
   "id": "9f435685-0b7b-47c1-a4a1-282d4ef7fbab",
   "metadata": {
    "tags": []
   },
   "source": [
    "## proof derivatives"
   ]
  },
  {
   "cell_type": "markdown",
   "id": "54e1191a-dc43-4b75-b954-5a8b8f69793a",
   "metadata": {},
   "source": [
    "$$\\lim_{h \\to 0} {{f(x+h) - f(x)}\\over{h}}$$"
   ]
  },
  {
   "cell_type": "code",
   "execution_count": 3,
   "id": "2bef5d97-6a15-4112-a5bf-1e4bff03b4b0",
   "metadata": {
    "tags": []
   },
   "outputs": [
    {
     "data": {
      "text/latex": [
       "$\\displaystyle x^{2}$"
      ],
      "text/plain": [
       "x**2"
      ]
     },
     "execution_count": 3,
     "metadata": {},
     "output_type": "execute_result"
    }
   ],
   "source": [
    "f = x ** 2\n",
    "f"
   ]
  },
  {
   "cell_type": "code",
   "execution_count": 4,
   "id": "4a6e2ac0-16d9-4142-84d8-11c8c7c901dc",
   "metadata": {},
   "outputs": [
    {
     "data": {
      "text/latex": [
       "$\\displaystyle 2 x$"
      ],
      "text/plain": [
       "2*x"
      ]
     },
     "execution_count": 4,
     "metadata": {},
     "output_type": "execute_result"
    }
   ],
   "source": [
    "diff(f, x)"
   ]
  },
  {
   "cell_type": "markdown",
   "id": "85f34b78-e0f9-442f-958b-92c249253b41",
   "metadata": {},
   "source": [
    "อย่างที่รู้กันว่า $ {d(x^2) \\over dx} = 2x $"
   ]
  },
  {
   "cell_type": "markdown",
   "id": "58250b64-21c8-462b-9129-b15ec59603de",
   "metadata": {},
   "source": [
    "รูป format ของ function derivatives คือ diff([function], [ตัวแปร]) <br />"
   ]
  },
  {
   "cell_type": "markdown",
   "id": "51f0a1d0-e471-4462-80ca-dd67e5945b27",
   "metadata": {},
   "source": [
    "$$ d({\\sqrt[3]{x^2}}) \\over dx $$"
   ]
  },
  {
   "cell_type": "code",
   "execution_count": 15,
   "id": "9df41a1e-d653-403d-b747-0456bbf057e7",
   "metadata": {
    "tags": []
   },
   "outputs": [
    {
     "data": {
      "text/latex": [
       "$\\displaystyle \\sqrt[3]{x^{2}}$"
      ],
      "text/plain": [
       "(x**2)**(1/3)"
      ]
     },
     "execution_count": 15,
     "metadata": {},
     "output_type": "execute_result"
    }
   ],
   "source": [
    "f = cbrt(x**2)\n",
    "f"
   ]
  },
  {
   "cell_type": "code",
   "execution_count": 10,
   "id": "c12caff9-07e0-478e-be3a-ea4c97f1d880",
   "metadata": {
    "tags": []
   },
   "outputs": [
    {
     "data": {
      "text/latex": [
       "$\\displaystyle \\frac{2 \\sqrt[3]{x^{2}}}{3 x}$"
      ],
      "text/plain": [
       "2*(x**2)**(1/3)/(3*x)"
      ]
     },
     "execution_count": 10,
     "metadata": {},
     "output_type": "execute_result"
    }
   ],
   "source": [
    "diff(f, x)"
   ]
  },
  {
   "cell_type": "markdown",
   "id": "fa5573ca-1070-43d5-ade8-886ab2820881",
   "metadata": {},
   "source": [
    "เราจึงรู้ได้ว่า $d({\\sqrt[3]{x^2}}) \\over dx$ = $ 2\\sqrt[3]{x^2} \\over {3x} $ "
   ]
  },
  {
   "cell_type": "markdown",
   "id": "951689b6-8391-4d5b-b547-ffaae811b245",
   "metadata": {},
   "source": [
    "$$ d({x ^{\\cos(x)}}) \\over dx$$"
   ]
  },
  {
   "cell_type": "code",
   "execution_count": 16,
   "id": "9d6d3e35-341a-431a-a8ba-2ef1d016421f",
   "metadata": {
    "tags": []
   },
   "outputs": [
    {
     "data": {
      "text/latex": [
       "$\\displaystyle x^{\\cos{\\left(x \\right)}}$"
      ],
      "text/plain": [
       "x**cos(x)"
      ]
     },
     "execution_count": 16,
     "metadata": {},
     "output_type": "execute_result"
    }
   ],
   "source": [
    "f = x ** cos(x)\n",
    "f"
   ]
  },
  {
   "cell_type": "code",
   "execution_count": 17,
   "id": "fa97c234-27ba-4f9d-996a-bd7c0cb3eb80",
   "metadata": {
    "tags": []
   },
   "outputs": [
    {
     "data": {
      "text/latex": [
       "$\\displaystyle x^{\\cos{\\left(x \\right)}} \\left(- \\log{\\left(x \\right)} \\sin{\\left(x \\right)} + \\frac{\\cos{\\left(x \\right)}}{x}\\right)$"
      ],
      "text/plain": [
       "x**cos(x)*(-log(x)*sin(x) + cos(x)/x)"
      ]
     },
     "execution_count": 17,
     "metadata": {},
     "output_type": "execute_result"
    }
   ],
   "source": [
    "diff(f, x)"
   ]
  }
 ],
 "metadata": {
  "kernelspec": {
   "display_name": "Python 3 (ipykernel)",
   "language": "python",
   "name": "python3"
  },
  "language_info": {
   "codemirror_mode": {
    "name": "ipython",
    "version": 3
   },
   "file_extension": ".py",
   "mimetype": "text/x-python",
   "name": "python",
   "nbconvert_exporter": "python",
   "pygments_lexer": "ipython3",
   "version": "3.9.11"
  }
 },
 "nbformat": 4,
 "nbformat_minor": 5
}
