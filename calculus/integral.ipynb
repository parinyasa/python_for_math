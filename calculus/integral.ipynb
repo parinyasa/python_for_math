{
 "cells": [
  {
   "cell_type": "code",
   "execution_count": 1,
   "id": "779ffbd5-f334-4a53-a819-43534e67405b",
   "metadata": {
    "tags": []
   },
   "outputs": [],
   "source": [
    "from sympy import *\n",
    "x, y = symbols(\"x y\")"
   ]
  },
  {
   "cell_type": "markdown",
   "id": "f03af6f9-c486-42ae-96e5-3793a0304568",
   "metadata": {},
   "source": [
    "# antiderivative"
   ]
  },
  {
   "cell_type": "markdown",
   "id": "90ec0913-84a2-48d5-93fa-c27085109527",
   "metadata": {},
   "source": [
    "รูป format ของ antiderivative หรือเรียกว่า integrate ไม่จำกัดเขต คือ integrate([ฟังก์ชั่น], [ตัวเทียบ])"
   ]
  },
  {
   "cell_type": "markdown",
   "id": "a41a111d-b4e9-4b90-a668-d6edb8a9214c",
   "metadata": {},
   "source": [
    "$$ \\int x^2 \\, dx $$"
   ]
  },
  {
   "cell_type": "code",
   "execution_count": 2,
   "id": "a49cf513-3b91-4cf5-8d4b-5e3360c32a17",
   "metadata": {
    "tags": []
   },
   "outputs": [
    {
     "data": {
      "text/latex": [
       "$\\displaystyle x^{2}$"
      ],
      "text/plain": [
       "x**2"
      ]
     },
     "execution_count": 2,
     "metadata": {},
     "output_type": "execute_result"
    }
   ],
   "source": [
    "f = x**2\n",
    "f"
   ]
  },
  {
   "cell_type": "code",
   "execution_count": 3,
   "id": "b998e0e6-1d61-4ab0-9b02-34853d53ed10",
   "metadata": {
    "tags": []
   },
   "outputs": [
    {
     "data": {
      "text/latex": [
       "$\\displaystyle \\frac{x^{3}}{3}$"
      ],
      "text/plain": [
       "x**3/3"
      ]
     },
     "execution_count": 3,
     "metadata": {},
     "output_type": "execute_result"
    }
   ],
   "source": [
    "integrate(f, x)"
   ]
  },
  {
   "cell_type": "markdown",
   "id": "eb0f2b9f-647c-40af-a9e8-790ca43c60f4",
   "metadata": {},
   "source": [
    "$$ \\int e^{x^2} \\, dx $$"
   ]
  },
  {
   "cell_type": "code",
   "execution_count": 4,
   "id": "31221afa-72d2-4598-93a5-8a95595c24a3",
   "metadata": {
    "tags": []
   },
   "outputs": [
    {
     "data": {
      "text/latex": [
       "$\\displaystyle e^{x^{2}}$"
      ],
      "text/plain": [
       "exp(x**2)"
      ]
     },
     "execution_count": 4,
     "metadata": {},
     "output_type": "execute_result"
    }
   ],
   "source": [
    "f = (E ** x ** 2)\n",
    "f"
   ]
  },
  {
   "cell_type": "code",
   "execution_count": 5,
   "id": "392d956f-dee2-48a1-86d6-cc1941da514e",
   "metadata": {
    "tags": []
   },
   "outputs": [
    {
     "data": {
      "text/latex": [
       "$\\displaystyle \\frac{\\sqrt{\\pi} \\operatorname{erfi}{\\left(x \\right)}}{2}$"
      ],
      "text/plain": [
       "sqrt(pi)*erfi(x)/2"
      ]
     },
     "execution_count": 5,
     "metadata": {},
     "output_type": "execute_result"
    }
   ],
   "source": [
    "integrate(f, x)"
   ]
  },
  {
   "cell_type": "markdown",
   "id": "8e79ca9e-9888-41c4-85e6-a72c40d4036e",
   "metadata": {},
   "source": [
    "$$ \\int \\sec(x) \\tan(x) \\, dx$$"
   ]
  },
  {
   "cell_type": "code",
   "execution_count": 6,
   "id": "ee0701a9-5ba4-49ca-a7e2-6eea604c1028",
   "metadata": {
    "tags": []
   },
   "outputs": [
    {
     "data": {
      "text/latex": [
       "$\\displaystyle \\tan{\\left(x \\right)} \\sec{\\left(x \\right)}$"
      ],
      "text/plain": [
       "tan(x)*sec(x)"
      ]
     },
     "execution_count": 6,
     "metadata": {},
     "output_type": "execute_result"
    }
   ],
   "source": [
    "f = sec(x) * tan(x)\n",
    "f"
   ]
  },
  {
   "cell_type": "code",
   "execution_count": 7,
   "id": "d86edb2b-e4f6-4bb7-98f2-12ade3a983bc",
   "metadata": {
    "tags": []
   },
   "outputs": [
    {
     "data": {
      "text/latex": [
       "$\\displaystyle \\frac{1}{\\cos{\\left(x \\right)}}$"
      ],
      "text/plain": [
       "1/cos(x)"
      ]
     },
     "execution_count": 7,
     "metadata": {},
     "output_type": "execute_result"
    }
   ],
   "source": [
    "integrate(f, x)"
   ]
  },
  {
   "cell_type": "markdown",
   "id": "89c8876b-93b2-4a2a-9a33-cf1141d18883",
   "metadata": {},
   "source": [
    "# integral"
   ]
  },
  {
   "cell_type": "markdown",
   "id": "143f8ec7-e203-44d9-acd0-160aea6180ef",
   "metadata": {
    "tags": []
   },
   "source": [
    "รูป format ของ integral หรือเรียกว่า indefine integrate จำกัดเขต คือ integrate([ฟังก์ชั่น], [(ตัวเทียบ, ตั้งแต่, จบ)])"
   ]
  },
  {
   "cell_type": "markdown",
   "id": "d0cd95f8-06e0-4c1a-a0eb-8962e7e0011a",
   "metadata": {},
   "source": [
    "$$ \\int_1^5 x^{10} e ^ x dx$$"
   ]
  },
  {
   "cell_type": "code",
   "execution_count": 8,
   "id": "84013dc3-6e03-4968-8381-5773371069fd",
   "metadata": {
    "tags": []
   },
   "outputs": [
    {
     "data": {
      "text/latex": [
       "$\\displaystyle x^{10} e^{x}$"
      ],
      "text/plain": [
       "x**10*exp(x)"
      ]
     },
     "execution_count": 8,
     "metadata": {},
     "output_type": "execute_result"
    }
   ],
   "source": [
    "f = (x**10) * (E ** x)\n",
    "f"
   ]
  },
  {
   "cell_type": "code",
   "execution_count": 9,
   "id": "7f20b86b-cce3-4655-afd5-5936be74704e",
   "metadata": {
    "tags": []
   },
   "outputs": [
    {
     "data": {
      "text/latex": [
       "$\\displaystyle \\left(x^{10} - 10 x^{9} + 90 x^{8} - 720 x^{7} + 5040 x^{6} - 30240 x^{5} + 151200 x^{4} - 604800 x^{3} + 1814400 x^{2} - 3628800 x + 3628800\\right) e^{x}$"
      ],
      "text/plain": [
       "(x**10 - 10*x**9 + 90*x**8 - 720*x**7 + 5040*x**6 - 30240*x**5 + 151200*x**4 - 604800*x**3 + 1814400*x**2 - 3628800*x + 3628800)*exp(x)"
      ]
     },
     "execution_count": 9,
     "metadata": {},
     "output_type": "execute_result"
    }
   ],
   "source": [
    "integrate(f, x)"
   ]
  },
  {
   "cell_type": "code",
   "execution_count": 10,
   "id": "123cf2a7-c575-47e7-8c4f-7f9dc5e6dde4",
   "metadata": {
    "tags": []
   },
   "outputs": [
    {
     "data": {
      "text/latex": [
       "$\\displaystyle - 1334961 e + 3135425 e^{5}$"
      ],
      "text/plain": [
       "-1334961*E + 3135425*exp(5)"
      ]
     },
     "execution_count": 10,
     "metadata": {},
     "output_type": "execute_result"
    }
   ],
   "source": [
    "integrate(f, (x, 1, 5))"
   ]
  },
  {
   "cell_type": "markdown",
   "id": "487e274d-4458-4764-8ddf-e3f6f597e3e8",
   "metadata": {
    "tags": []
   },
   "source": [
    "# sequence"
   ]
  },
  {
   "cell_type": "markdown",
   "id": "647c5f43-ef93-4937-9aea-6618b4af292a",
   "metadata": {},
   "source": [
    "รูป format ของ ผลรวมของลำดับคือ Sum([ฟังก์ชั่น], ([ตัวเทียบ], [ตั้งแต่], [จบ])).doit()"
   ]
  },
  {
   "cell_type": "code",
   "execution_count": 11,
   "id": "e36a2685-ea9f-448a-83a4-858fdb0a84c3",
   "metadata": {
    "tags": []
   },
   "outputs": [],
   "source": [
    "n = symbols(\"n\")"
   ]
  },
  {
   "cell_type": "markdown",
   "id": "8225b982-6977-4005-85ed-51d8332b8e89",
   "metadata": {},
   "source": [
    "$$ \\sum_{n=1}^{10} n^3 + 3n + 4$$"
   ]
  },
  {
   "cell_type": "code",
   "execution_count": 12,
   "id": "80a8e24f-f3d8-4ec3-bcef-b56effb759bb",
   "metadata": {
    "tags": []
   },
   "outputs": [
    {
     "data": {
      "text/latex": [
       "$\\displaystyle n^{3} + 3 n + 4$"
      ],
      "text/plain": [
       "n**3 + 3*n + 4"
      ]
     },
     "execution_count": 12,
     "metadata": {},
     "output_type": "execute_result"
    }
   ],
   "source": [
    "f = n**3 + 3*n + 4\n",
    "f"
   ]
  },
  {
   "cell_type": "code",
   "execution_count": 13,
   "id": "07f5bd3b-f256-417f-989d-4767c47838d3",
   "metadata": {
    "tags": []
   },
   "outputs": [
    {
     "data": {
      "text/latex": [
       "$\\displaystyle \\sum_{n=1}^{10} \\left(n^{3} + 3 n + 4\\right)$"
      ],
      "text/plain": [
       "Sum(n**3 + 3*n + 4, (n, 1, 10))"
      ]
     },
     "execution_count": 13,
     "metadata": {},
     "output_type": "execute_result"
    }
   ],
   "source": [
    "Sum(f, (n, 1, 10))"
   ]
  },
  {
   "cell_type": "code",
   "execution_count": 14,
   "id": "a56f8c2f-20fb-40d7-8367-f82e04026c63",
   "metadata": {
    "tags": []
   },
   "outputs": [
    {
     "data": {
      "text/latex": [
       "$\\displaystyle 3230$"
      ],
      "text/plain": [
       "3230"
      ]
     },
     "execution_count": 14,
     "metadata": {},
     "output_type": "execute_result"
    }
   ],
   "source": [
    "Sum(f, (n, 1, 10)).doit()"
   ]
  },
  {
   "cell_type": "markdown",
   "id": "c270ad52-7a1c-4dbe-b4cb-3b3d09b0cf25",
   "metadata": {},
   "source": [
    "$$ \\sum_{n=1}^{\\infty} {{e^{n}} \\over {7^n}} $$"
   ]
  },
  {
   "cell_type": "code",
   "execution_count": 15,
   "id": "810225be-44c1-4183-bb4c-4f387be21870",
   "metadata": {
    "tags": []
   },
   "outputs": [
    {
     "data": {
      "text/latex": [
       "$\\displaystyle 7^{- n} e^{n}$"
      ],
      "text/plain": [
       "exp(n)/7**n"
      ]
     },
     "execution_count": 15,
     "metadata": {},
     "output_type": "execute_result"
    }
   ],
   "source": [
    "f = (E ** (n)) / (7**n)\n",
    "f"
   ]
  },
  {
   "cell_type": "code",
   "execution_count": 16,
   "id": "07c30baf-ff36-4602-9356-3ada215b76c4",
   "metadata": {
    "tags": []
   },
   "outputs": [
    {
     "data": {
      "text/latex": [
       "$\\displaystyle \\sum_{n=1}^{\\infty} 7^{- n} e^{n}$"
      ],
      "text/plain": [
       "Sum(exp(n)/7**n, (n, 1, oo))"
      ]
     },
     "execution_count": 16,
     "metadata": {},
     "output_type": "execute_result"
    }
   ],
   "source": [
    "Sum(f, (n, 1, oo))"
   ]
  },
  {
   "cell_type": "code",
   "execution_count": 17,
   "id": "8d7a5985-0dbe-4dde-be6b-5525958d1d3e",
   "metadata": {
    "tags": []
   },
   "outputs": [
    {
     "data": {
      "text/latex": [
       "$\\displaystyle \\frac{e}{7 \\cdot \\left(1 - \\frac{e}{7}\\right)}$"
      ],
      "text/plain": [
       "E/(7*(1 - E/7))"
      ]
     },
     "execution_count": 17,
     "metadata": {},
     "output_type": "execute_result"
    }
   ],
   "source": [
    "Sum(f, (n, 1, oo)).doit()"
   ]
  },
  {
   "cell_type": "markdown",
   "id": "62a888a0-f9c7-4b5c-8bfe-7e80535cc3de",
   "metadata": {},
   "source": [
    "$$ \\sum_{n=0}^{\\infty} {n^2 \\over {2^n}}$$"
   ]
  },
  {
   "cell_type": "code",
   "execution_count": 18,
   "id": "88f6fadd-24f5-4d7b-abd5-207b4d6d838d",
   "metadata": {
    "tags": []
   },
   "outputs": [
    {
     "data": {
      "text/latex": [
       "$\\displaystyle 2^{- n} n^{2}$"
      ],
      "text/plain": [
       "n**2/2**n"
      ]
     },
     "execution_count": 18,
     "metadata": {},
     "output_type": "execute_result"
    }
   ],
   "source": [
    "f = (n**2) / (2 ** n)\n",
    "f"
   ]
  },
  {
   "cell_type": "code",
   "execution_count": 19,
   "id": "43e70a6e-fc37-4094-bda9-8679602b49bc",
   "metadata": {
    "tags": []
   },
   "outputs": [
    {
     "data": {
      "text/latex": [
       "$\\displaystyle \\sum_{n=0}^{\\infty} 2^{- n} n^{2}$"
      ],
      "text/plain": [
       "Sum(n**2/2**n, (n, 0, oo))"
      ]
     },
     "execution_count": 19,
     "metadata": {},
     "output_type": "execute_result"
    }
   ],
   "source": [
    "Sum(f, (n, 0, oo))"
   ]
  },
  {
   "cell_type": "code",
   "execution_count": 20,
   "id": "12a3ef37-3bcb-4518-899b-f7f6fc6d1ec4",
   "metadata": {
    "tags": []
   },
   "outputs": [
    {
     "data": {
      "text/latex": [
       "$\\displaystyle 6$"
      ],
      "text/plain": [
       "6"
      ]
     },
     "execution_count": 20,
     "metadata": {},
     "output_type": "execute_result"
    }
   ],
   "source": [
    "Sum(f, (n, 0, oo)).doit()"
   ]
  }
 ],
 "metadata": {
  "kernelspec": {
   "display_name": "Python 3 (ipykernel)",
   "language": "python",
   "name": "python3"
  },
  "language_info": {
   "codemirror_mode": {
    "name": "ipython",
    "version": 3
   },
   "file_extension": ".py",
   "mimetype": "text/x-python",
   "name": "python",
   "nbconvert_exporter": "python",
   "pygments_lexer": "ipython3",
   "version": "3.9.11"
  }
 },
 "nbformat": 4,
 "nbformat_minor": 5
}
