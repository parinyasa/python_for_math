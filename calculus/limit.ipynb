{
 "cells": [
  {
   "cell_type": "code",
   "execution_count": 4,
   "id": "f7e710b1-2ed2-4aa3-a4d2-71d77252733c",
   "metadata": {},
   "outputs": [],
   "source": [
    "from sympy import *\n",
    "x = symbols(\"x\")"
   ]
  },
  {
   "cell_type": "markdown",
   "id": "4774310b-f2cd-4eca-8076-cc949cb29329",
   "metadata": {},
   "source": [
    "# limit"
   ]
  },
  {
   "cell_type": "markdown",
   "id": "d56b298c-d373-4298-8cd8-919d13502c91",
   "metadata": {},
   "source": [
    "รูป format ของ function limit คือ limit([function], [ตัวแปร], [จำนวนที่จะแทน]) <br />\n",
    "สมมุติ $f(x) = 2x - 1$ ให้หา $ \\lim_{x \\to 2} f(x)$"
   ]
  },
  {
   "cell_type": "code",
   "execution_count": 6,
   "id": "18a6631f-30f9-4bd8-8b31-92a807d3e764",
   "metadata": {
    "tags": []
   },
   "outputs": [
    {
     "data": {
      "text/latex": [
       "$\\displaystyle 3$"
      ],
      "text/plain": [
       "3"
      ]
     },
     "execution_count": 6,
     "metadata": {},
     "output_type": "execute_result"
    }
   ],
   "source": [
    "limit(2*x-1, x, 2)"
   ]
  },
  {
   "cell_type": "markdown",
   "id": "3130ff9d-c878-4e42-b297-fea529bb26f5",
   "metadata": {},
   "source": [
    "จะได้ว่า $ \\lim_{x \\to 2} f(x) = 3$"
   ]
  },
  {
   "cell_type": "markdown",
   "id": "498cf16d-205a-4c25-be02-5f509cb329e8",
   "metadata": {},
   "source": [
    "$$ \\lim_{x \\to 0}{sin(x) \\over x} $$"
   ]
  },
  {
   "cell_type": "code",
   "execution_count": 7,
   "id": "80be6166-7d9f-401b-b674-de407a748c5e",
   "metadata": {},
   "outputs": [],
   "source": [
    "f = (sin(x) / x)"
   ]
  },
  {
   "cell_type": "code",
   "execution_count": 12,
   "id": "b6a04b24-d21b-4652-8480-7df53d48cc84",
   "metadata": {
    "tags": []
   },
   "outputs": [
    {
     "data": {
      "text/latex": [
       "$\\displaystyle 1$"
      ],
      "text/plain": [
       "1"
      ]
     },
     "execution_count": 12,
     "metadata": {},
     "output_type": "execute_result"
    }
   ],
   "source": [
    "limit(f, x, 0)"
   ]
  },
  {
   "cell_type": "markdown",
   "id": "0d325032-9191-4f48-b994-7c9e09f20e2c",
   "metadata": {},
   "source": [
    "คำตอบคือ $ \\lim_{x \\to 0} {sin(x) \\over{x}} = 1  $"
   ]
  },
  {
   "cell_type": "markdown",
   "id": "62c15bd6-8087-46b3-8f76-beefcfdea362",
   "metadata": {},
   "source": [
    "$$ \\lim_{x \\to -2} {x^3 - 5x - 2 \\over{x+2}}$$"
   ]
  },
  {
   "cell_type": "code",
   "execution_count": 13,
   "id": "3c7e0ac0-8bc2-47e5-b4f9-f8b2c7d3f727",
   "metadata": {},
   "outputs": [
    {
     "data": {
      "text/latex": [
       "$\\displaystyle \\frac{x^{3} - 5 x - 2}{x + 2}$"
      ],
      "text/plain": [
       "(x**3 - 5*x - 2)/(x + 2)"
      ]
     },
     "execution_count": 13,
     "metadata": {},
     "output_type": "execute_result"
    }
   ],
   "source": [
    "f = (x**3 - 5 * x - 2) / (x + 2)\n",
    "f"
   ]
  },
  {
   "cell_type": "code",
   "execution_count": 14,
   "id": "71a19b2c-178a-4c00-a423-60fd731979df",
   "metadata": {},
   "outputs": [
    {
     "data": {
      "text/latex": [
       "$\\displaystyle 7$"
      ],
      "text/plain": [
       "7"
      ]
     },
     "execution_count": 14,
     "metadata": {},
     "output_type": "execute_result"
    }
   ],
   "source": [
    "limit(f, x, -2)"
   ]
  },
  {
   "cell_type": "markdown",
   "id": "8c67e33f-72cc-4f01-9ce3-2e7253c96ca4",
   "metadata": {},
   "source": [
    "คำตอบคือ $\\lim_{x \\to -2} {{x^3 - 5x - 2}\\over{x+2}} = 7$"
   ]
  },
  {
   "cell_type": "markdown",
   "id": "47d377e2-e838-4516-9124-b2d2541f4b1c",
   "metadata": {},
   "source": [
    "$$ \\lim_{x \\to \\infty} {\\cos(\\arctan(x))}$$"
   ]
  },
  {
   "cell_type": "code",
   "execution_count": 15,
   "id": "bd604382-35f7-4220-95de-4dc5a0ed9ce9",
   "metadata": {},
   "outputs": [],
   "source": [
    "f = cos(atan(x))"
   ]
  },
  {
   "cell_type": "code",
   "execution_count": 16,
   "id": "dda71b51-5c1c-4d51-b965-e30a42c9373d",
   "metadata": {},
   "outputs": [
    {
     "data": {
      "text/latex": [
       "$\\displaystyle 0$"
      ],
      "text/plain": [
       "0"
      ]
     },
     "execution_count": 16,
     "metadata": {},
     "output_type": "execute_result"
    }
   ],
   "source": [
    "limit(f, x, oo)"
   ]
  }
 ],
 "metadata": {
  "kernelspec": {
   "display_name": "Python 3 (ipykernel)",
   "language": "python",
   "name": "python3"
  },
  "language_info": {
   "codemirror_mode": {
    "name": "ipython",
    "version": 3
   },
   "file_extension": ".py",
   "mimetype": "text/x-python",
   "name": "python",
   "nbconvert_exporter": "python",
   "pygments_lexer": "ipython3",
   "version": "3.9.11"
  }
 },
 "nbformat": 4,
 "nbformat_minor": 5
}
